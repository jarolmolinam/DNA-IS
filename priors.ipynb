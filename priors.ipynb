{
 "cells": [
  {
   "cell_type": "markdown",
   "metadata": {},
   "source": [
    "# **Prior force field for the deep learning CG Model of DNA**\n",
    "\n",
    "This Jupyter notebook get the parameters for the prior force field from the full atomistic trajectories ...."
   ]
  },
  {
   "cell_type": "markdown",
   "metadata": {},
   "source": [
    "---\n",
    "---\n",
    "# **Import of the necesary packages**\n",
    "\n",
    "Firstly, we need to install all necessary libraries and packages for our mapping. The main packages are:\n",
    "\n",
    "1.    Moleculekit\n",
    "3.    Numpy (https://numpy.org/)"
   ]
  },
  {
   "cell_type": "code",
   "execution_count": null,
   "metadata": {},
   "outputs": [],
   "source": [
    "import sys\n",
    "import os\n",
    "workDir = os.getcwd()\n",
    "parentDir = os.path.abspath(os.path.join(workDir, os.pardir))\n",
    "sys.path.append(os.path.join(parentDir, 'src'))\n",
    "from src.prior_fit import get_param_bonded\n",
    "from src.prior_fit import get_param_nonbonded\n",
    "from src.prior_fit import get_param_nonbonded_rep\n",
    "from src.make_deltaforces import make_deltaforces\n",
    "import numpy as np\n",
    "import yaml\n",
    "from moleculekit.molecule import Molecule"
   ]
  },
  {
   "cell_type": "code",
   "execution_count": null,
   "metadata": {},
   "outputs": [],
   "source": [
    "PDB_file = 'Data/DNA1_CG.pdb' \n",
    "DCD_file = 'Data/DNA1_CG.dcd'\n",
    "mol = Molecule(PDB_file,validateElements=False)\n",
    "mol.read(DCD_file)\n",
    "mol.coords = mol.coords/10.0 # convert to nm\n",
    "print(mol.coords.shape)\n",
    "print(mol.name)\n"
   ]
  },
  {
   "cell_type": "code",
   "execution_count": null,
   "metadata": {},
   "outputs": [],
   "source": [
    "# Define the CG topology\n",
    "basepairs_number = 20\n",
    "bonds = [[i, i + 1] for i in range(basepairs_number-1)]\n",
    "bonds  += [[i + 20, i + 21] for i in range(basepairs_number-1)]\n",
    "mol.bonds = np.array(bonds)\n",
    "mol.bondtype = np.array(['un' for i in range(2*basepairs_number-2)])\n",
    "angles = [[i, i + 1, i + 2] for i in range(basepairs_number-2)]\n",
    "angles += [[i + 20, i + 21, i + 22] for i in range(basepairs_number-2)]\n",
    "mol.angles = np.array(angles)"
   ]
  },
  {
   "cell_type": "markdown",
   "metadata": {},
   "source": [
    "---\n",
    "---\n",
    "## **Prior dictionary**\n",
    "\n",
    "The prior dictionary, that will form a force field file, need to be filled with fields: \n",
    "\n",
    "* `atomtypes` - stores unique bead names\n",
    "\n",
    "* `bonds` - parameters describing bonded interactions. Both parameters will be calculated based on the training data.\n",
    "    * `req` - equilibrium distance of the bond\n",
    "    * `k0` - spring constant\n",
    "    *  ```V = k * (x - x0)**2 + V0``` - Fitting function\n",
    "\n",
    "* `lj` - parameters describing Lennard-Jones interactions. \n",
    "    * `epsilon` - will be calculated based on the training data.\n",
    "    * `sigma` - in this case set to 1.0\n",
    "    * ```V = 4*eps*((sigma/r)**12 - (sigma/r)**6) + V0``` - Fitting function\n",
    "\n",
    "* `electrostatics` - parameters describing electrostatic interactions:\n",
    "    * `charge` - in this case \n",
    "\n",
    "* `masses` - masses of the beads."
   ]
  },
  {
   "cell_type": "code",
   "execution_count": null,
   "metadata": {},
   "outputs": [],
   "source": [
    "# Initiate prior dictionary\n",
    "priors = {}\n",
    "priors['atomtypes'] = list(set(mol.atomtype))\n",
    "priors['bonds'] = {}\n",
    "priors['angles'] = {}\n",
    "priors['morse'] = {}\n",
    "priors['electrostatics'] = {at:{'charge': -1.0} for at in priors['atomtypes']}\n",
    "priors['masses'] = {'DA': 1.0, 'DT': 1.0, 'DG': 1.0, 'DC': 1.0}\n",
    "\n",
    "print(priors['atomtypes'])\n",
    "print(priors['masses'])"
   ]
  },
  {
   "cell_type": "markdown",
   "metadata": {},
   "source": [
    "### Bonded interactions\n",
    "\n",
    "bonds approximated by harmonic function:\n",
    "\n",
    "```V = k * (x - x0)**2 + V0```\n",
    "\n",
    "angles approximated by cosine function:\n",
    "\n",
    "```V = k * (1 - cosΘ) + V0```"
   ]
  },
  {
   "cell_type": "code",
   "execution_count": null,
   "metadata": {},
   "outputs": [],
   "source": [
    "T = 298.15 # K\n",
    "fit_range = [12.9,14.9] # Adjust this range to fit the model resolution\n",
    "\n",
    "bond_params, angle_params = get_param_bonded(mol, fit_range, T)\n",
    "\n",
    "priors['bonds'] = bond_params\n",
    "priors['angles'] = angle_params"
   ]
  },
  {
   "cell_type": "code",
   "execution_count": null,
   "metadata": {},
   "outputs": [],
   "source": [
    "print(priors['bonds'])\n",
    "print(priors['angles'])"
   ]
  },
  {
   "cell_type": "markdown",
   "metadata": {},
   "source": [
    "### Non-bonded interactions\n",
    "\n",
    "non-bonded interactions approximated by a Lennard-Jones potential: \n",
    "\n",
    "```V = 4 * eps * ((sigma/r)**6) + V0```"
   ]
  },
  {
   "cell_type": "code",
   "execution_count": null,
   "metadata": {},
   "outputs": [],
   "source": [
    "fit_range = {'A':[3.5,6.5], 'T':[3.5,6.5], 'G':[3.5,6.5], 'C':[3.5,6.5]}\n",
    "\n",
    "nonbond_params = get_param_nonbonded_rep(mol, fit_range, T)\n",
    "\n",
    "priors['morse'] = nonbond_params"
   ]
  },
  {
   "cell_type": "code",
   "execution_count": null,
   "metadata": {},
   "outputs": [],
   "source": [
    "print(priors['morse'])"
   ]
  },
  {
   "cell_type": "code",
   "execution_count": null,
   "metadata": {},
   "outputs": [],
   "source": [
    "with open(\"DNA1_priors.yaml\",\"w\") as f: \n",
    "    yaml.dump(priors, f)"
   ]
  },
  {
   "cell_type": "markdown",
   "metadata": {},
   "source": [
    "---\n",
    "---\n",
    "## **Delta-Forces Preparation**\n",
    "all the code inside **make_deltaforces.py** needs to be modified if we want to use delta-forces in the training"
   ]
  },
  {
   "cell_type": "code",
   "execution_count": null,
   "metadata": {},
   "outputs": [],
   "source": [
    "forces = np.load('DNA1_CGfrc.npy')\n",
    "delta_forces_npz = 'DNA1_deltaforces.npy'\n",
    "\n",
    "make_deltaforces(mol, forces, delta_forces_npz, priors)"
   ]
  }
 ],
 "metadata": {
  "kernelspec": {
   "display_name": "Python 3.9.0 ('cgnet2')",
   "language": "python",
   "name": "python3"
  },
  "language_info": {
   "codemirror_mode": {
    "name": "ipython",
    "version": 3
   },
   "file_extension": ".py",
   "mimetype": "text/x-python",
   "name": "python",
   "nbconvert_exporter": "python",
   "pygments_lexer": "ipython3",
   "version": "3.10.13"
  },
  "orig_nbformat": 4,
  "vscode": {
   "interpreter": {
    "hash": "310f3f4164f3795f726f6fdb7f0e1e14c67aad0d99262aa538b703b8c3f600b4"
   }
  }
 },
 "nbformat": 4,
 "nbformat_minor": 2
}
