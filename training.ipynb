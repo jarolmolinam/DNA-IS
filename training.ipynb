{
 "cells": [
  {
   "cell_type": "markdown",
   "metadata": {},
   "source": [
    "# **Prior force field for the deep learning CG Model of DNA**\n",
    "\n",
    "This Jupyter notebook train the network from the full atomistic trajectories ....\n",
    "\n",
    "**All this notebook needs to be modified to use TorchMD-NET**"
   ]
  },
  {
   "cell_type": "code",
   "execution_count": null,
   "metadata": {},
   "outputs": [],
   "source": [
    "import sys\n",
    "import os\n",
    "workDir = os.getcwd()\n",
    "parentDir = os.path.abspath(os.path.join(workDir, os.pardir))\n",
    "sys.path.append(os.path.join(parentDir, 'src'))\n",
    "\n",
    "import numpy as np\n",
    "\n",
    "import torch.nn as nn\n",
    "import torch\n",
    "from torch.utils.data import DataLoader, RandomSampler\n",
    "from torch.optim.lr_scheduler import MultiStepLR\n",
    "\n",
    "from cgnet.feature import (MoleculeDataset, GeometryStatistics,\n",
    "                           GeometryFeature, ShiftedSoftplus,\n",
    "                           CGBeadEmbedding, SchnetFeature,\n",
    "                           FeatureCombiner, LinearLayer,\n",
    "                           GaussianRBF)\n",
    "from cgnet.network import (HarmonicLayer, CGnet, ForceLoss,\n",
    "                           lipschitz_projection, dataset_loss, Simulation)\n",
    "from cgnet.molecule import CGMolecule\n",
    "\n",
    "import matplotlib.pyplot as plt\n",
    "%matplotlib inline\n",
    "\n",
    "# We specify the training/simulating device here.\n",
    "device = torch.device('cuda')"
   ]
  },
  {
   "cell_type": "markdown",
   "metadata": {},
   "source": [
    "# Training"
   ]
  },
  {
   "cell_type": "code",
   "execution_count": null,
   "metadata": {},
   "outputs": [],
   "source": [
    "delta_forces = np.load('DNA_Salt10_deltaforces.npy')\n",
    "print(\"delta Force: {}\".format(delta_forces.shape))\n",
    "\n",
    "DNA_data = MoleculeDataset(CG_coords, delta_forces, embeddings, device=device)\n",
    "print(\"Dataset length: {}\".format(len(DNA_data)))"
   ]
  },
  {
   "cell_type": "code",
   "execution_count": null,
   "metadata": {},
   "outputs": [],
   "source": [
    "# Hyperparameters\n",
    "\n",
    "n_layers = 5\n",
    "n_nodes = 128\n",
    "activation = nn.Tanh()\n",
    "batch_size = 512\n",
    "learning_rate = 3e-4\n",
    "rate_decay = 0.3\n",
    "lipschitz_strength = 4.0\n",
    "\n",
    "# schnet-specific parameters\n",
    "n_embeddings = 10\n",
    "n_gaussians = 50\n",
    "n_interaction_blocks = 5\n",
    "cutoff = 20.0\n",
    "\n",
    "num_epochs = 20\n",
    "\n",
    "save_model = False\n",
    "directory = '.' # to save model\n",
    "\n",
    "n_beads = CG_coords.shape[1]"
   ]
  },
  {
   "cell_type": "code",
   "execution_count": null,
   "metadata": {},
   "outputs": [],
   "source": [
    "loader = DataLoader(DNA_data, sampler=RandomSampler(DNA_data),\n",
    "                         batch_size=batch_size)\n",
    "for num, batch in enumerate(loader):\n",
    "    coords, forces, embeddings = batch\n",
    "    print(\"Coordinates size:\", coords.size())\n",
    "    print(\"Forces size:\", forces.size())\n",
    "    print(\"Embeddings size:\", embeddings.size())\n",
    "    print(num, len(loader))\n",
    "    break"
   ]
  },
  {
   "cell_type": "code",
   "execution_count": null,
   "metadata": {},
   "outputs": [],
   "source": [
    "embedding_layer = CGBeadEmbedding(n_embeddings = n_embeddings,\n",
    "                                  embedding_dim = n_nodes)\n",
    "\n",
    "rbf_layer = GaussianRBF(high_cutoff=cutoff, n_gaussians=n_gaussians)\n",
    "\n",
    "schnet_feature = SchnetFeature(feature_size = n_nodes,\n",
    "                               embedding_layer = embedding_layer,\n",
    "                               rbf_layer=rbf_layer,\n",
    "                               n_interaction_blocks = n_interaction_blocks,\n",
    "                               calculate_geometry = True,\n",
    "                               n_beads = n_beads,\n",
    "                               neighbor_cutoff = None,\n",
    "                               device = device)"
   ]
  },
  {
   "cell_type": "code",
   "execution_count": null,
   "metadata": {},
   "outputs": [],
   "source": [
    "layers = LinearLayer(n_nodes,\n",
    "                     n_nodes,\n",
    "                     activation=activation)\n",
    "\n",
    "for _ in range(n_layers - 1):\n",
    "    layers += LinearLayer(n_nodes,\n",
    "                          n_nodes,\n",
    "                          activation=activation)\n",
    "\n",
    "# The last layer produces a single value\n",
    "layers += LinearLayer(n_nodes, 1, activation=None)\n",
    "\n",
    "DNA_model = CGnet(layers, ForceLoss(),\n",
    "                 feature=schnet_feature,\n",
    "                 priors=None).to(device)\n",
    "print(DNA_model)"
   ]
  },
  {
   "cell_type": "code",
   "execution_count": null,
   "metadata": {},
   "outputs": [],
   "source": [
    "optimizer = torch.optim.Adam(DNA_model.parameters(),\n",
    "                             lr=learning_rate)\n",
    "scheduler = MultiStepLR(optimizer,milestones=[10,20,30,40,50],\n",
    "                        gamma=rate_decay)\n",
    "epochal_train_losses = []\n",
    "epochal_test_losses  = []\n",
    "verbose = True\n",
    "\n",
    "# printout settings\n",
    "batch_freq = 500\n",
    "epoch_freq = 1"
   ]
  },
  {
   "cell_type": "code",
   "execution_count": null,
   "metadata": {},
   "outputs": [],
   "source": [
    "for epoch in range(1, num_epochs+1):\n",
    "    train_loss = 0.00\n",
    "    test_loss = 0.00\n",
    "    n = 0\n",
    "    for num, batch in enumerate(loader):\n",
    "        optimizer.zero_grad()\n",
    "        coord, force, embedding_property = batch\n",
    "\n",
    "        \n",
    "        energy, pred_force = DNA_model.forward(coord,\n",
    "                                embedding_property=embedding_property)\n",
    "        batch_loss = DNA_model.criterion(pred_force, force)\n",
    "        batch_loss.backward()\n",
    "        optimizer.step()\n",
    "        \n",
    "        # perform L2 lipschitz check and projection\n",
    "        lipschitz_projection(DNA_model, strength=lipschitz_strength)\n",
    "        if verbose:\n",
    "            if (num+1) % batch_freq == 0:\n",
    "                print(\n",
    "                    \"Batch: {: <5} Train: {: <20} Test: {: <20}\".format(\n",
    "                        num+1, batch_loss, test_loss)\n",
    "                )\n",
    "        train_loss += batch_loss.detach().cpu()\n",
    "        n += 1\n",
    "\n",
    "    train_loss /= n\n",
    "    if verbose:\n",
    "        if epoch % epoch_freq == 0:\n",
    "            print(\n",
    "                \"Epoch: {: <5} Train: {: <20} Test: {: <20}\".format(\n",
    "    epoch, train_loss, test_loss))\n",
    "    epochal_train_losses.append(train_loss)\n",
    "    scheduler.step()\n",
    "    \n",
    "if save_model:\n",
    "    torch.save(DNA_model,\"{}/DNA_cgschnet.pt\".format(directory))"
   ]
  },
  {
   "cell_type": "code",
   "execution_count": null,
   "metadata": {},
   "outputs": [],
   "source": [
    "fig = plt.figure()\n",
    "plt.plot(np.arange(0,len(epochal_train_losses),1),\n",
    "         epochal_train_losses, label='Training Loss')\n",
    "plt.legend(loc='best')\n",
    "plt.xlabel(\"Epochs\")\n",
    "plt.xticks(np.arange(1,5))\n",
    "plt.ylabel(\"Loss\")\n",
    "plt.show()"
   ]
  },
  {
   "cell_type": "code",
   "execution_count": null,
   "metadata": {},
   "outputs": [],
   "source": [
    "pot, force = DNA_model.forward(torch.tensor(CG_coords[-1,:,:], , requires_grad=True),  torch.tensor(embeddings))"
   ]
  }
 ],
 "metadata": {
  "kernelspec": {
   "display_name": "Python 3.9.0 ('cgnet2')",
   "language": "python",
   "name": "python3"
  },
  "language_info": {
   "codemirror_mode": {
    "name": "ipython",
    "version": 3
   },
   "file_extension": ".py",
   "mimetype": "text/x-python",
   "name": "python",
   "nbconvert_exporter": "python",
   "pygments_lexer": "ipython3",
   "version": "3.9.0"
  },
  "orig_nbformat": 4,
  "vscode": {
   "interpreter": {
    "hash": "310f3f4164f3795f726f6fdb7f0e1e14c67aad0d99262aa538b703b8c3f600b4"
   }
  }
 },
 "nbformat": 4,
 "nbformat_minor": 2
}
