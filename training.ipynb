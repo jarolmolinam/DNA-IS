{
 "cells": [
  {
   "cell_type": "code",
   "execution_count": 1,
   "metadata": {},
   "outputs": [],
   "source": [
    "import sys\n",
    "import os\n",
    "workDir = os.getcwd()\n",
    "parentDir = os.path.abspath(os.path.join(workDir, os.pardir))\n",
    "sys.path.append(os.path.join(parentDir, 'src'))\n",
    "from prior_fit import get_param_bonded\n",
    "from prior_fit import get_param_nonbonded\n",
    "from prior_fit import get_param_nonbonded_rep\n",
    "from make_deltaforces import make_deltaforces\n",
    "import numpy as np\n",
    "import pandas as pd\n",
    "import yaml\n",
    "from tqdm import tqdm\n",
    "from scipy.optimize import curve_fit\n",
    "from moleculekit.molecule import Molecule\n",
    "\n",
    "import torch.nn as nn\n",
    "import torch\n",
    "import mdtraj as md\n",
    "\n",
    "from torch.utils.data import DataLoader, RandomSampler\n",
    "from torch.optim.lr_scheduler import MultiStepLR\n",
    "\n",
    "from cgnet.feature import (MoleculeDataset, GeometryStatistics,\n",
    "                           GeometryFeature, ShiftedSoftplus,\n",
    "                           CGBeadEmbedding, SchnetFeature,\n",
    "                           FeatureCombiner, LinearLayer,\n",
    "                           GaussianRBF)\n",
    "\n",
    "from cgnet.network import (HarmonicLayer, CGnet, ForceLoss,\n",
    "                           lipschitz_projection, dataset_loss, Simulation)\n",
    "\n",
    "from cgnet.molecule import CGMolecule\n",
    "\n",
    "import matplotlib.pyplot as plt\n",
    "%matplotlib inline\n",
    "\n",
    "# We specify the CPU as the training/simulating device here.\n",
    "# If you have machine  with a GPU, you can use the GPU for\n",
    "# accelerated training/simulation by specifying \n",
    "device = torch.device('cuda')"
   ]
  },
  {
   "cell_type": "code",
   "execution_count": 2,
   "metadata": {},
   "outputs": [
    {
     "name": "stdout",
     "output_type": "stream",
     "text": [
      "(17, 3, 4000)\n",
      "['DNA' 'DNA' 'DNA' 'DNA' 'DNA' 'SPD' 'SPD' 'SPD' 'SPD' 'SPD' 'SPD' 'SPD'\n",
      " 'SPD' 'SPD' 'SPD' 'SPD' 'SPD']\n",
      "[[0 1]\n",
      " [1 2]\n",
      " [2 3]\n",
      " [3 4]]\n"
     ]
    }
   ],
   "source": [
    "PDB_file = 'DNA_Salt10_CG.pdb'\n",
    "DCD_file = 'DNA_Salt10_CG.dcd'\n",
    "mol = Molecule(PDB_file,validateElements=False)\n",
    "mol.read(DCD_file)\n",
    "mol.coords = mol.coords/10.0\n",
    "print(mol.coords.shape)\n",
    "print(mol.name)\n",
    "#mol.atomtype = np.array([1 if i == 'DNA' else 2 for i in mol.name])\n",
    "mol.atomtype = mol.name\n",
    "mol.bonds = np.array([[i , i + 1] for i in range(4)])\n",
    "mol.bondtype = np.array(['un' for i in range(4)])\n",
    "mol.angles = np.array([[i , i + 1, i + 2] for i in range(3)])\n",
    "print(mol.bonds)"
   ]
  },
  {
   "cell_type": "markdown",
   "metadata": {},
   "source": [
    "# **Prior dictionary**\n",
    "\n",
    "The prior dictionary, that will form a force field file, need to be filled with fields: \n",
    "\n",
    "* `atomtypes` - stores unique bead names\n",
    "\n",
    "* `bonds` - parameters describing bonded interactions. Both parameters will be calculated based on the training data.\n",
    "    * `req` - equilibrium distance of the bond\n",
    "    * `k0` - spring constant\n",
    "    *  ```V = k * (x - x0)**2 + V0``` - Fitting function\n",
    "\n",
    "* `lj` - parameters describing Lennard-Jones interactions. \n",
    "    * `epsilon` - will be calculated based on the training data.\n",
    "    * `sigma` - in this case set to 1.0\n",
    "    * ```V = 4*eps*((sigma/r)**12 - (sigma/r)**6) + V0``` - Fitting function\n",
    "\n",
    "* `electrostatics` - parameters describing electrostatic interactions:\n",
    "    * `charge` - in this case \n",
    "\n",
    "* `masses` - masses of the beads."
   ]
  },
  {
   "cell_type": "code",
   "execution_count": 3,
   "metadata": {},
   "outputs": [
    {
     "name": "stdout",
     "output_type": "stream",
     "text": [
      "['DNA', 'SPD']\n",
      "{'DNA': 2600.0, 'SPD': 145.0}\n"
     ]
    }
   ],
   "source": [
    "# Initiate prior dictionary\n",
    "priors = {}\n",
    "priors['atomtypes'] = list(set(mol.atomtype))\n",
    "priors['bonds'] = {}\n",
    "priors['angles'] = {}\n",
    "priors['morse'] = {}\n",
    "priors['electrostatics'] = {at:({'charge': -8.0} if at == \"DNA\" else {'charge': 3.0}) for at in priors['atomtypes']}\n",
    "priors['masses'] = {(at):(2600.0 if at == 'DNA' else 145.0) for at in priors['atomtypes']}\n",
    "\n",
    "print(priors['atomtypes'])\n",
    "print(priors['masses'])"
   ]
  },
  {
   "cell_type": "markdown",
   "metadata": {},
   "source": [
    "### Bonded interactions\n",
    "\n",
    "bonds approximated by harmonic function:\n",
    "\n",
    "```V = k * (x - x0)**2 + V0```\n",
    "\n",
    "angles approximated by cosine function:\n",
    "\n",
    "```V = k * (1 - cosΘ) + V0```"
   ]
  },
  {
   "cell_type": "code",
   "execution_count": 4,
   "metadata": {},
   "outputs": [
    {
     "data": {
      "image/png": "[encoded data removed]",
      "text/plain": [
       "<Figure size 432x288 with 1 Axes>"
      ]
     },
     "metadata": {
      "needs_background": "light"
     },
     "output_type": "display_data"
    },
    {
     "data": {
      "image/png": "[encoded data removed]",
      "text/plain": [
       "<Figure size 432x288 with 1 Axes>"
      ]
     },
     "metadata": {
      "needs_background": "light"
     },
     "output_type": "display_data"
    }
   ],
   "source": [
    "T = 298.15 # K\n",
    "fit_range = [12.9,14.9]\n",
    "\n",
    "bond_params, angle_params = get_param_bonded(mol, fit_range, T)\n",
    "\n",
    "priors['bonds'] = bond_params\n",
    "priors['angles'] = angle_params"
   ]
  },
  {
   "cell_type": "code",
   "execution_count": 5,
   "metadata": {},
   "outputs": [
    {
     "name": "stdout",
     "output_type": "stream",
     "text": [
      "{'(DNA, DNA)': {'req': 13.876492161238218, 'k0': 1.5304402550987581}}\n",
      "{'(DNA, DNA, DNA)': {'k_theta': 44.3246675876717}}\n"
     ]
    }
   ],
   "source": [
    "print(priors['bonds'])\n",
    "print(priors['angles'])"
   ]
  },
  {
   "cell_type": "markdown",
   "metadata": {},
   "source": [
    "### Non-bonded interactions\n",
    "\n",
    "non-bonded interactions approximated by a Lennard-Jones potential: \n",
    "\n",
    "```V = 4 * eps * ((sigma/r)**6) + V0```"
   ]
  },
  {
   "cell_type": "code",
   "execution_count": 6,
   "metadata": {},
   "outputs": [
    {
     "data": {
      "image/png": "[encoded data removed]",
      "text/plain": [
       "<Figure size 432x288 with 1 Axes>"
      ]
     },
     "metadata": {
      "needs_background": "light"
     },
     "output_type": "display_data"
    },
    {
     "data": {
      "image/png": "[encoded data removed]",
      "text/plain": [
       "<Figure size 432x288 with 1 Axes>"
      ]
     },
     "metadata": {
      "needs_background": "light"
     },
     "output_type": "display_data"
    }
   ],
   "source": [
    "fit_range = {'DNA':[13, 17.5], 'SPD':[3.5,6.5]}\n",
    "\n",
    "nonbond_params = get_param_nonbonded_rep(mol, fit_range, T)\n",
    "\n",
    "priors['morse'] = nonbond_params"
   ]
  },
  {
   "cell_type": "code",
   "execution_count": 7,
   "metadata": {},
   "outputs": [
    {
     "name": "stdout",
     "output_type": "stream",
     "text": [
      "{'DNA': {'epsilon': 8.516334997319854, 'sigma': -12.826570416708684}, 'SPD': {'epsilon': 0.0842392956242036, 'sigma': 4.288704900711581}}\n"
     ]
    }
   ],
   "source": [
    "print(priors['morse'])"
   ]
  },
  {
   "cell_type": "code",
   "execution_count": 8,
   "metadata": {},
   "outputs": [
    {
     "ename": "KeyError",
     "evalue": "'(DNA, DNA)'",
     "output_type": "error",
     "traceback": [
      "\u001b[0;31m---------------------------------------------------------------------------\u001b[0m",
      "\u001b[0;31mKeyError\u001b[0m                                  Traceback (most recent call last)",
      "\u001b[1;32m/home/alejo/projects/Gensyn-DL/coarse/Salt10/CGDL-training.ipynb Cell 11'\u001b[0m in \u001b[0;36m<cell line: 1>\u001b[0;34m()\u001b[0m\n\u001b[0;32m----> <a href='vscode-notebook-cell://wsl%2Bubuntu/home/alejo/projects/Gensyn-DL/coarse/Salt10/CGDL-training.ipynb#ch0000010vscode-remote?line=0'>1</a>\u001b[0m \u001b[39mprint\u001b[39m(priors[\u001b[39m'\u001b[39;49m\u001b[39mbonds\u001b[39;49m\u001b[39m'\u001b[39;49m][\u001b[39m'\u001b[39;49m\u001b[39m(DNA, DNA)\u001b[39;49m\u001b[39m'\u001b[39;49m][\u001b[39m'\u001b[39m\u001b[39mk0\u001b[39m\u001b[39m'\u001b[39m])\n",
      "\u001b[0;31mKeyError\u001b[0m: '(DNA, DNA)'"
     ]
    }
   ],
   "source": [
    "print(priors['bonds']['(DNA, DNA)']['k0'])"
   ]
  },
  {
   "cell_type": "code",
   "execution_count": 9,
   "metadata": {},
   "outputs": [],
   "source": [
    "with open(\"DNA_Salt10_priors.yaml\",\"w\") as f: \n",
    "    yaml.dump(priors, f)"
   ]
  },
  {
   "cell_type": "markdown",
   "metadata": {},
   "source": [
    "## Delta-forces Preparation"
   ]
  },
  {
   "cell_type": "code",
   "execution_count": 10,
   "metadata": {},
   "outputs": [
    {
     "name": "stdout",
     "output_type": "stream",
     "text": [
      "Check for broken coords.\n"
     ]
    },
    {
     "name": "stderr",
     "output_type": "stream",
     "text": [
      "100%|██████████| 4/4 [00:00<00:00, 7650.35it/s]"
     ]
    },
    {
     "name": "stdout",
     "output_type": "stream",
     "text": [
      "Removing broken coords with distances larger than 10A.\n",
      "(17, 3, 0)\n",
      "(17, 3, 4000)\n",
      "Producing delta forces\n"
     ]
    },
    {
     "name": "stderr",
     "output_type": "stream",
     "text": [
      "\n"
     ]
    },
    {
     "ename": "IndexError",
     "evalue": "index 0 is out of bounds for axis 0 with size 0",
     "output_type": "error",
     "traceback": [
      "\u001b[0;31m---------------------------------------------------------------------------\u001b[0m",
      "\u001b[0;31mIndexError\u001b[0m                                Traceback (most recent call last)",
      "\u001b[1;32m/home/alejo/projects/Gensyn-DL/coarse/Salt10/CGDL-training.ipynb Cell 14'\u001b[0m in \u001b[0;36m<cell line: 4>\u001b[0;34m()\u001b[0m\n\u001b[1;32m      <a href='vscode-notebook-cell://wsl%2Bubuntu/home/alejo/projects/Gensyn-DL/coarse/Salt10/CGDL-training.ipynb#ch0000013vscode-remote?line=0'>1</a>\u001b[0m forces \u001b[39m=\u001b[39m np\u001b[39m.\u001b[39mload(\u001b[39m'\u001b[39m\u001b[39mDNA_Salt10_CGfrc.npy\u001b[39m\u001b[39m'\u001b[39m)\n\u001b[1;32m      <a href='vscode-notebook-cell://wsl%2Bubuntu/home/alejo/projects/Gensyn-DL/coarse/Salt10/CGDL-training.ipynb#ch0000013vscode-remote?line=1'>2</a>\u001b[0m delta_forces_npz \u001b[39m=\u001b[39m \u001b[39m'\u001b[39m\u001b[39mDNA_Salt10_deltaforces.npy\u001b[39m\u001b[39m'\u001b[39m\n\u001b[0;32m----> <a href='vscode-notebook-cell://wsl%2Bubuntu/home/alejo/projects/Gensyn-DL/coarse/Salt10/CGDL-training.ipynb#ch0000013vscode-remote?line=3'>4</a>\u001b[0m make_deltaforces(mol, forces, delta_forces_npz, priors)\n",
      "File \u001b[0;32m~/projects/Gensyn-DL/coarse/src/make_deltaforces.py:52\u001b[0m, in \u001b[0;36mmake_deltaforces\u001b[0;34m(mol, forces_npz, delta_forces_npz, forcefield)\u001b[0m\n\u001b[1;32m     50\u001b[0m \u001b[39mprint\u001b[39m(\u001b[39m\"\u001b[39m\u001b[39mProducing delta forces\u001b[39m\u001b[39m\"\u001b[39m)\n\u001b[1;32m     51\u001b[0m prior_forces \u001b[39m=\u001b[39m []\n\u001b[0;32m---> 52\u001b[0m frame_forces \u001b[39m=\u001b[39m np\u001b[39m.\u001b[39mzeros_like(all_forces[\u001b[39m0\u001b[39;49m,:,:])\n\u001b[1;32m     54\u001b[0m k_bond \u001b[39m=\u001b[39m forcefield[\u001b[39m'\u001b[39m\u001b[39mbonds\u001b[39m\u001b[39m'\u001b[39m][\u001b[39m'\u001b[39m\u001b[39m(DNA, DNA)\u001b[39m\u001b[39m'\u001b[39m][\u001b[39m'\u001b[39m\u001b[39mk0\u001b[39m\u001b[39m'\u001b[39m]\n\u001b[1;32m     55\u001b[0m r_eq \u001b[39m=\u001b[39m forcefield[\u001b[39m'\u001b[39m\u001b[39mbonds\u001b[39m\u001b[39m'\u001b[39m][\u001b[39m'\u001b[39m\u001b[39m(DNA, DNA)\u001b[39m\u001b[39m'\u001b[39m][\u001b[39m'\u001b[39m\u001b[39mreq\u001b[39m\u001b[39m'\u001b[39m]\n",
      "\u001b[0;31mIndexError\u001b[0m: index 0 is out of bounds for axis 0 with size 0"
     ]
    }
   ],
   "source": [
    "forces = np.load('DNA_Salt10_CGfrc.npy')\n",
    "delta_forces_npz = 'DNA_Salt10_deltaforces.npy'\n",
    "\n",
    "make_deltaforces(mol, forces, delta_forces_npz, priors)"
   ]
  },
  {
   "cell_type": "markdown",
   "metadata": {},
   "source": [
    "## Save CG coords as .npy"
   ]
  },
  {
   "cell_type": "code",
   "execution_count": 3,
   "metadata": {},
   "outputs": [
    {
     "name": "stdout",
     "output_type": "stream",
     "text": [
      "(4000, 17, 3)\n"
     ]
    }
   ],
   "source": [
    "CG_coords = mol.coords\n",
    "CG_coords = np.moveaxis(CG_coords, -1, 0)\n",
    "print(CG_coords.shape)\n",
    "\n",
    "np.save('DNA_Salt10_coords.npy', CG_coords)"
   ]
  },
  {
   "cell_type": "markdown",
   "metadata": {},
   "source": [
    "## Embedding"
   ]
  },
  {
   "cell_type": "code",
   "execution_count": 15,
   "metadata": {},
   "outputs": [
    {
     "name": "stdout",
     "output_type": "stream",
     "text": [
      "['DNA' 'DNA' 'DNA' 'DNA' 'DNA' 'SPD' 'SPD' 'SPD' 'SPD' 'SPD' 'SPD' 'SPD'\n",
      " 'SPD' 'SPD' 'SPD' 'SPD' 'SPD']\n"
     ]
    }
   ],
   "source": [
    "print(mol.resname)"
   ]
  },
  {
   "cell_type": "code",
   "execution_count": 16,
   "metadata": {},
   "outputs": [
    {
     "name": "stdout",
     "output_type": "stream",
     "text": [
      "Embeddings size: (4000, 17)\n"
     ]
    }
   ],
   "source": [
    "Bead2INT = {'DNA':1,\n",
    "         'SPD':2\n",
    "         }\n",
    "\n",
    "emb = np.array([Bead2INT[x] for x in mol.resname])\n",
    "np.save('DNA_Salt10_embeddings.npy', emb)\n",
    "\n",
    "embeddings = np.tile(emb, [CG_coords.shape[0], 1])\n",
    "print(\"Embeddings size: {}\".format(embeddings.shape))"
   ]
  },
  {
   "cell_type": "markdown",
   "metadata": {},
   "source": [
    "# Training"
   ]
  },
  {
   "cell_type": "code",
   "execution_count": 17,
   "metadata": {},
   "outputs": [
    {
     "name": "stdout",
     "output_type": "stream",
     "text": [
      "delta Force: (4000, 17, 3)\n",
      "Dataset length: 4000\n"
     ]
    }
   ],
   "source": [
    "delta_forces = np.load('DNA_Salt10_deltaforces.npy')\n",
    "print(\"delta Force: {}\".format(delta_forces.shape))\n",
    "\n",
    "DNA_data = MoleculeDataset(CG_coords, delta_forces, embeddings, device=device)\n",
    "print(\"Dataset length: {}\".format(len(DNA_data)))"
   ]
  },
  {
   "cell_type": "code",
   "execution_count": 18,
   "metadata": {},
   "outputs": [],
   "source": [
    "# Hyperparameters\n",
    "\n",
    "n_layers = 5\n",
    "n_nodes = 128\n",
    "activation = nn.Tanh()\n",
    "batch_size = 512\n",
    "learning_rate = 3e-4\n",
    "rate_decay = 0.3\n",
    "lipschitz_strength = 4.0\n",
    "\n",
    "# schnet-specific parameters\n",
    "n_embeddings = 10\n",
    "n_gaussians = 50\n",
    "n_interaction_blocks = 5\n",
    "cutoff = 20.0\n",
    "\n",
    "num_epochs = 20\n",
    "\n",
    "save_model = False\n",
    "directory = '.' # to save model\n",
    "\n",
    "n_beads = CG_coords.shape[1]"
   ]
  },
  {
   "cell_type": "code",
   "execution_count": 19,
   "metadata": {},
   "outputs": [
    {
     "name": "stdout",
     "output_type": "stream",
     "text": [
      "Coordinates size: torch.Size([512, 17, 3])\n",
      "Forces size: torch.Size([512, 17, 3])\n",
      "Embeddings size: torch.Size([512, 17])\n",
      "0 8\n"
     ]
    }
   ],
   "source": [
    "loader = DataLoader(DNA_data, sampler=RandomSampler(DNA_data),\n",
    "                         batch_size=batch_size)\n",
    "for num, batch in enumerate(loader):\n",
    "    coords, forces, embeddings = batch\n",
    "    print(\"Coordinates size:\", coords.size())\n",
    "    print(\"Forces size:\", forces.size())\n",
    "    print(\"Embeddings size:\", embeddings.size())\n",
    "    print(num, len(loader))\n",
    "    break"
   ]
  },
  {
   "cell_type": "code",
   "execution_count": 20,
   "metadata": {},
   "outputs": [],
   "source": [
    "embedding_layer = CGBeadEmbedding(n_embeddings = n_embeddings,\n",
    "                                  embedding_dim = n_nodes)\n",
    "\n",
    "rbf_layer = GaussianRBF(high_cutoff=cutoff, n_gaussians=n_gaussians)\n",
    "\n",
    "schnet_feature = SchnetFeature(feature_size = n_nodes,\n",
    "                               embedding_layer = embedding_layer,\n",
    "                               rbf_layer=rbf_layer,\n",
    "                               n_interaction_blocks = n_interaction_blocks,\n",
    "                               calculate_geometry = True,\n",
    "                               n_beads = n_beads,\n",
    "                               neighbor_cutoff = None,\n",
    "                               device = device)"
   ]
  },
  {
   "cell_type": "code",
   "execution_count": 21,
   "metadata": {},
   "outputs": [
    {
     "name": "stdout",
     "output_type": "stream",
     "text": [
      "CGnet(\n",
      "  (arch): Sequential(\n",
      "    (0): Linear(in_features=128, out_features=128, bias=True)\n",
      "    (1): Tanh()\n",
      "    (2): Linear(in_features=128, out_features=128, bias=True)\n",
      "    (3): Tanh()\n",
      "    (4): Linear(in_features=128, out_features=128, bias=True)\n",
      "    (5): Tanh()\n",
      "    (6): Linear(in_features=128, out_features=128, bias=True)\n",
      "    (7): Tanh()\n",
      "    (8): Linear(in_features=128, out_features=128, bias=True)\n",
      "    (9): Tanh()\n",
      "    (10): Linear(in_features=128, out_features=1, bias=True)\n",
      "  )\n",
      "  (criterion): ForceLoss()\n",
      "  (feature): SchnetFeature(\n",
      "    (embedding_layer): CGBeadEmbedding(\n",
      "      (embedding): Embedding(10, 128, padding_idx=0)\n",
      "    )\n",
      "    (rbf_layer): GaussianRBF()\n",
      "    (interaction_blocks): ModuleList(\n",
      "      (0): InteractionBlock(\n",
      "        (initial_dense): Sequential(\n",
      "          (0): Linear(in_features=128, out_features=128, bias=False)\n",
      "        )\n",
      "        (inital_dense): Sequential(\n",
      "          (0): Linear(in_features=128, out_features=128, bias=False)\n",
      "        )\n",
      "        (cfconv): ContinuousFilterConvolution(\n",
      "          (filter_generator): Sequential(\n",
      "            (0): Linear(in_features=50, out_features=128, bias=True)\n",
      "            (1): ShiftedSoftplus()\n",
      "            (2): Linear(in_features=128, out_features=128, bias=True)\n",
      "          )\n",
      "        )\n",
      "        (output_dense): Sequential(\n",
      "          (0): Linear(in_features=128, out_features=128, bias=True)\n",
      "          (1): ShiftedSoftplus()\n",
      "          (2): Linear(in_features=128, out_features=128, bias=True)\n",
      "        )\n",
      "      )\n",
      "      (1): InteractionBlock(\n",
      "        (initial_dense): Sequential(\n",
      "          (0): Linear(in_features=128, out_features=128, bias=False)\n",
      "        )\n",
      "        (inital_dense): Sequential(\n",
      "          (0): Linear(in_features=128, out_features=128, bias=False)\n",
      "        )\n",
      "        (cfconv): ContinuousFilterConvolution(\n",
      "          (filter_generator): Sequential(\n",
      "            (0): Linear(in_features=50, out_features=128, bias=True)\n",
      "            (1): ShiftedSoftplus()\n",
      "            (2): Linear(in_features=128, out_features=128, bias=True)\n",
      "          )\n",
      "        )\n",
      "        (output_dense): Sequential(\n",
      "          (0): Linear(in_features=128, out_features=128, bias=True)\n",
      "          (1): ShiftedSoftplus()\n",
      "          (2): Linear(in_features=128, out_features=128, bias=True)\n",
      "        )\n",
      "      )\n",
      "      (2): InteractionBlock(\n",
      "        (initial_dense): Sequential(\n",
      "          (0): Linear(in_features=128, out_features=128, bias=False)\n",
      "        )\n",
      "        (inital_dense): Sequential(\n",
      "          (0): Linear(in_features=128, out_features=128, bias=False)\n",
      "        )\n",
      "        (cfconv): ContinuousFilterConvolution(\n",
      "          (filter_generator): Sequential(\n",
      "            (0): Linear(in_features=50, out_features=128, bias=True)\n",
      "            (1): ShiftedSoftplus()\n",
      "            (2): Linear(in_features=128, out_features=128, bias=True)\n",
      "          )\n",
      "        )\n",
      "        (output_dense): Sequential(\n",
      "          (0): Linear(in_features=128, out_features=128, bias=True)\n",
      "          (1): ShiftedSoftplus()\n",
      "          (2): Linear(in_features=128, out_features=128, bias=True)\n",
      "        )\n",
      "      )\n",
      "      (3): InteractionBlock(\n",
      "        (initial_dense): Sequential(\n",
      "          (0): Linear(in_features=128, out_features=128, bias=False)\n",
      "        )\n",
      "        (inital_dense): Sequential(\n",
      "          (0): Linear(in_features=128, out_features=128, bias=False)\n",
      "        )\n",
      "        (cfconv): ContinuousFilterConvolution(\n",
      "          (filter_generator): Sequential(\n",
      "            (0): Linear(in_features=50, out_features=128, bias=True)\n",
      "            (1): ShiftedSoftplus()\n",
      "            (2): Linear(in_features=128, out_features=128, bias=True)\n",
      "          )\n",
      "        )\n",
      "        (output_dense): Sequential(\n",
      "          (0): Linear(in_features=128, out_features=128, bias=True)\n",
      "          (1): ShiftedSoftplus()\n",
      "          (2): Linear(in_features=128, out_features=128, bias=True)\n",
      "        )\n",
      "      )\n",
      "      (4): InteractionBlock(\n",
      "        (initial_dense): Sequential(\n",
      "          (0): Linear(in_features=128, out_features=128, bias=False)\n",
      "        )\n",
      "        (inital_dense): Sequential(\n",
      "          (0): Linear(in_features=128, out_features=128, bias=False)\n",
      "        )\n",
      "        (cfconv): ContinuousFilterConvolution(\n",
      "          (filter_generator): Sequential(\n",
      "            (0): Linear(in_features=50, out_features=128, bias=True)\n",
      "            (1): ShiftedSoftplus()\n",
      "            (2): Linear(in_features=128, out_features=128, bias=True)\n",
      "          )\n",
      "        )\n",
      "        (output_dense): Sequential(\n",
      "          (0): Linear(in_features=128, out_features=128, bias=True)\n",
      "          (1): ShiftedSoftplus()\n",
      "          (2): Linear(in_features=128, out_features=128, bias=True)\n",
      "        )\n",
      "      )\n",
      "    )\n",
      "  )\n",
      ")\n"
     ]
    }
   ],
   "source": [
    "layers = LinearLayer(n_nodes,\n",
    "                     n_nodes,\n",
    "                     activation=activation)\n",
    "\n",
    "for _ in range(n_layers - 1):\n",
    "    layers += LinearLayer(n_nodes,\n",
    "                          n_nodes,\n",
    "                          activation=activation)\n",
    "\n",
    "# The last layer produces a single value\n",
    "layers += LinearLayer(n_nodes, 1, activation=None)\n",
    "\n",
    "DNA_model = CGnet(layers, ForceLoss(),\n",
    "                 feature=schnet_feature,\n",
    "                 priors=None).to(device)\n",
    "print(DNA_model)"
   ]
  },
  {
   "cell_type": "code",
   "execution_count": 22,
   "metadata": {},
   "outputs": [],
   "source": [
    "optimizer = torch.optim.Adam(DNA_model.parameters(),\n",
    "                             lr=learning_rate)\n",
    "scheduler = MultiStepLR(optimizer,milestones=[10,20,30,40,50],\n",
    "                        gamma=rate_decay)\n",
    "epochal_train_losses = []\n",
    "epochal_test_losses  = []\n",
    "verbose = True\n",
    "\n",
    "# printout settings\n",
    "batch_freq = 500\n",
    "epoch_freq = 1"
   ]
  },
  {
   "cell_type": "code",
   "execution_count": 23,
   "metadata": {},
   "outputs": [
    {
     "name": "stdout",
     "output_type": "stream",
     "text": [
      "Epoch: 1     Train: 71107222335.56587    Test: 0.0                 \n",
      "Epoch: 2     Train: 71105289755.20921    Test: 0.0                 \n",
      "Epoch: 3     Train: 71101972531.07912    Test: 0.0                 \n",
      "Epoch: 4     Train: 71100234694.26976    Test: 0.0                 \n",
      "Epoch: 5     Train: 71107391357.72647    Test: 0.0                 \n",
      "Epoch: 6     Train: 71107552385.7072     Test: 0.0                 \n",
      "Epoch: 7     Train: 71107108748.50455    Test: 0.0                 \n",
      "Epoch: 8     Train: 71107602119.04265    Test: 0.0                 \n",
      "Epoch: 9     Train: 71107484780.27164    Test: 0.0                 \n",
      "Epoch: 10    Train: 71107272864.14404    Test: 0.0                 \n",
      "Epoch: 11    Train: 71107345702.26189    Test: 0.0                 \n",
      "Epoch: 12    Train: 71107537262.53142    Test: 0.0                 \n",
      "Epoch: 13    Train: 71107176946.35103    Test: 0.0                 \n",
      "Epoch: 14    Train: 71107049477.15038    Test: 0.0                 \n",
      "Epoch: 15    Train: 71107239327.8065     Test: 0.0                 \n",
      "Epoch: 16    Train: 71107084330.54153    Test: 0.0                 \n",
      "Epoch: 17    Train: 71106873099.18802    Test: 0.0                 \n",
      "Epoch: 18    Train: 71106636698.45108    Test: 0.0                 \n",
      "Epoch: 19    Train: 71106847948.13892    Test: 0.0                 \n",
      "Epoch: 20    Train: 71106795074.7108     Test: 0.0                 \n"
     ]
    }
   ],
   "source": [
    "for epoch in range(1, num_epochs+1):\n",
    "    train_loss = 0.00\n",
    "    test_loss = 0.00\n",
    "    n = 0\n",
    "    for num, batch in enumerate(loader):\n",
    "        optimizer.zero_grad()\n",
    "        coord, force, embedding_property = batch\n",
    "\n",
    "        \n",
    "        energy, pred_force = DNA_model.forward(coord,\n",
    "                                embedding_property=embedding_property)\n",
    "        batch_loss = DNA_model.criterion(pred_force, force)\n",
    "        batch_loss.backward()\n",
    "        optimizer.step()\n",
    "        \n",
    "        # perform L2 lipschitz check and projection\n",
    "        lipschitz_projection(DNA_model, strength=lipschitz_strength)\n",
    "        if verbose:\n",
    "            if (num+1) % batch_freq == 0:\n",
    "                print(\n",
    "                    \"Batch: {: <5} Train: {: <20} Test: {: <20}\".format(\n",
    "                        num+1, batch_loss, test_loss)\n",
    "                )\n",
    "        train_loss += batch_loss.detach().cpu()\n",
    "        n += 1\n",
    "\n",
    "    train_loss /= n\n",
    "    if verbose:\n",
    "        if epoch % epoch_freq == 0:\n",
    "            print(\n",
    "                \"Epoch: {: <5} Train: {: <20} Test: {: <20}\".format(\n",
    "    epoch, train_loss, test_loss))\n",
    "    epochal_train_losses.append(train_loss)\n",
    "    scheduler.step()\n",
    "    \n",
    "if save_model:\n",
    "    torch.save(DNA_model,\"{}/DNA_cgschnet.pt\".format(directory))"
   ]
  },
  {
   "cell_type": "code",
   "execution_count": 24,
   "metadata": {},
   "outputs": [
    {
     "data": {
      "image/png": "[encoded data removed]",
      "text/plain": [
       "<Figure size 432x288 with 1 Axes>"
      ]
     },
     "metadata": {
      "needs_background": "light"
     },
     "output_type": "display_data"
    }
   ],
   "source": [
    "fig = plt.figure()\n",
    "plt.plot(np.arange(0,len(epochal_train_losses),1),\n",
    "         epochal_train_losses, label='Training Loss')\n",
    "plt.legend(loc='best')\n",
    "plt.xlabel(\"Epochs\")\n",
    "plt.xticks(np.arange(1,5))\n",
    "plt.ylabel(\"Loss\")\n",
    "plt.show()"
   ]
  },
  {
   "cell_type": "code",
   "execution_count": null,
   "metadata": {},
   "outputs": [],
   "source": [
    "pot, force = DNA_model.forward(torch.tensor(CG_coords[-1,:,:], , requires_grad=True),  torch.tensor(embeddings))"
   ]
  }
 ],
 "metadata": {
  "kernelspec": {
   "display_name": "Python 3.9.0 ('cgnet2')",
   "language": "python",
   "name": "python3"
  },
  "language_info": {
   "codemirror_mode": {
    "name": "ipython",
    "version": 3
   },
   "file_extension": ".py",
   "mimetype": "text/x-python",
   "name": "python",
   "nbconvert_exporter": "python",
   "pygments_lexer": "ipython3",
   "version": "3.9.0"
  },
  "orig_nbformat": 4,
  "vscode": {
   "interpreter": {
    "hash": "310f3f4164f3795f726f6fdb7f0e1e14c67aad0d99262aa538b703b8c3f600b4"
   }
  }
 },
 "nbformat": 4,
 "nbformat_minor": 2
}
